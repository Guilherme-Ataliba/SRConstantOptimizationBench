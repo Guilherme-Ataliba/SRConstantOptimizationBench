{
 "cells": [
  {
   "cell_type": "code",
   "execution_count": 1,
   "metadata": {},
   "outputs": [],
   "source": [
    "import sys\n",
    "sys.path.append('../algorithms/')\n",
    "\n",
    "from CSOWP_SR import *\n",
    "from ExpressionTree import *\n",
    "from trainAlgorithm import *\n",
    "import matplotlib.pyplot as plt\n",
    "import numpy as np\n",
    "import os"
   ]
  },
  {
   "cell_type": "code",
   "execution_count": 2,
   "metadata": {},
   "outputs": [],
   "source": [
    "def func(x):\n",
    "    return 10*np.exp(-0.5*np.exp(-0.5*x + 2))\n",
    "\n",
    "SEED = 42"
   ]
  },
  {
   "cell_type": "code",
   "execution_count": 3,
   "metadata": {},
   "outputs": [],
   "source": [
    "main_path = \"Outputs/fundamental/\"\n",
    "\n",
    "def create_dirs(path, gen_fit_path=None):\n",
    "    if not os.path.exists(path+\"/data\"):\n",
    "        os.makedirs(path+\"/data\")\n",
    "    if not os.path.exists(path+\"/trees\"):\n",
    "        os.makedirs(path+\"/trees\")\n",
    "\n",
    "    if gen_fit_path is not None:\n",
    "        if not os.path.exists(gen_fit_path):\n",
    "            os.makedirs(gen_fit_path)"
   ]
  },
  {
   "cell_type": "markdown",
   "metadata": {},
   "source": [
    "# Base Test - Non Specific"
   ]
  },
  {
   "cell_type": "code",
   "execution_count": null,
   "metadata": {},
   "outputs": [],
   "source": [
    "func = func\n",
    "x_range = [-5,15]\n",
    "n_points = 1000\n",
    "# population = 4000\n",
    "generations = 3\n",
    "const_range = (-5,15)\n",
    "dir_path = main_path + \"base\"\n",
    "gen_fit_path = dir_path + \"/gen_fit\"\n",
    "n_runs = 1\n",
    "create_dirs(dir_path, gen_fit_path)"
   ]
  },
  {
   "cell_type": "code",
   "execution_count": null,
   "metadata": {},
   "outputs": [],
   "source": [
    "pop_sizes = [20, 30, 40, 50, 60, 70, 80, 90, 100, 125,\n",
    "                    150, 175, 200, 250, 300, 350, 400, 450, 500, 550,\n",
    "                   600, 650, 700, 750, 800, 850, 900, 950, 1000,\n",
    "                   2000, 3000, 4000, 5000, 6000, 7000]"
   ]
  },
  {
   "cell_type": "code",
   "execution_count": null,
   "metadata": {},
   "outputs": [],
   "source": [
    "for pop in pop_sizes:\n",
    "    X, y, operators, functions = testAlgorithm(func, x_range, n_points, dir_path, pop, generations,\n",
    "                                          normalize=True, const_range=const_range,\n",
    "                                          ignore_warning=True, overwrite=True, n_runs=n_runs,\n",
    "                                          SEED=SEED, gen_fit_path=gen_fit_path)"
   ]
  },
  {
   "cell_type": "markdown",
   "metadata": {},
   "source": [
    "# Base Test - Specific"
   ]
  },
  {
   "cell_type": "code",
   "execution_count": null,
   "metadata": {},
   "outputs": [],
   "source": [
    "operators_op = {\"+\": lambda a,b: np.add(a,b), \"*\": lambda a,b: np.multiply(a,b),\n",
    "                \"-\": lambda a,b: np.subtract(a,b)}\n",
    "functions_op = {\"exp\": lambda a: np.exp(a), \"exp-\": lambda a: np.exp(-a)}\n",
    "custom_functions_dict = {\"exp-\": [\"np.exp(-\", \")\"]}\n",
    "weigths_op = {\"exp-\": 4}"
   ]
  },
  {
   "cell_type": "code",
   "execution_count": null,
   "metadata": {},
   "outputs": [],
   "source": [
    "func = func\n",
    "x_range = [-5,15]\n",
    "n_points = 1000\n",
    "# population = 4000\n",
    "generations = 3\n",
    "const_range = (-5,15)\n",
    "dir_path = main_path + \"base_specific/\"\n",
    "gen_fit_path = dir_path + \"/gen_fit\"\n",
    "n_runs = 1\n",
    "create_dirs(dir_path, gen_fit_path)"
   ]
  },
  {
   "cell_type": "code",
   "execution_count": null,
   "metadata": {},
   "outputs": [],
   "source": [
    "pop_sizes = [20, 30, 40, 50, 60, 70, 80, 90, 100, 125,\n",
    "                    150, 175, 200, 250, 300, 350, 400, 450, 500, 550,\n",
    "                   600, 650, 700, 750, 800, 850, 900, 950, 1000,\n",
    "                   2000, 3000, 4000, 5000, 6000, 7000]"
   ]
  },
  {
   "cell_type": "code",
   "execution_count": null,
   "metadata": {},
   "outputs": [],
   "source": [
    "for pop in pop_sizes:\n",
    "    X, y, operators, functions = testAlgorithm(func, x_range, n_points, dir_path, pop, generations,\n",
    "                                          normalize=True, const_range=const_range,\n",
    "                                          ignore_warning=True, overwrite=True, n_runs=n_runs,\n",
    "                                          SEED=SEED, gen_fit_path=gen_fit_path)"
   ]
  },
  {
   "cell_type": "markdown",
   "metadata": {},
   "source": [
    "# Base Test Generations - Non Specific"
   ]
  },
  {
   "cell_type": "code",
   "execution_count": null,
   "metadata": {},
   "outputs": [],
   "source": [
    "func = func\n",
    "x_range = [-5,15]\n",
    "n_points = 1000\n",
    "population = 2000\n",
    "generations = 3\n",
    "const_range = (-5,15)\n",
    "dir_path = main_path + \"base_generations/\"\n",
    "gen_fit_path = dir_path + \"/gen_fit\"\n",
    "n_runs = 1\n",
    "create_dirs(dir_path, gen_fit_path)"
   ]
  },
  {
   "cell_type": "code",
   "execution_count": null,
   "metadata": {},
   "outputs": [],
   "source": [
    "generations = [1, 2, 3, 4, 5, 6, 7, 8, 9, 10, 15]"
   ]
  },
  {
   "cell_type": "code",
   "execution_count": null,
   "metadata": {},
   "outputs": [],
   "source": [
    "for gen in generations:\n",
    "    X, y, operators, functions = testAlgorithm(func, x_range, n_points, dir_path, population, gen,\n",
    "                                          normalize=True, const_range=const_range,\n",
    "                                          ignore_warning=True, overwrite=True, n_runs=n_runs,\n",
    "                                          SEED=SEED, gen_fit_path=gen_fit_path)"
   ]
  },
  {
   "cell_type": "markdown",
   "metadata": {},
   "source": [
    "# Base Test Generations - Specific"
   ]
  },
  {
   "cell_type": "code",
   "execution_count": 4,
   "metadata": {},
   "outputs": [],
   "source": [
    "operators_op = {\"+\": lambda a,b: np.add(a,b), \"*\": lambda a,b: np.multiply(a,b),\n",
    "                \"-\": lambda a,b: np.subtract(a,b)}\n",
    "functions_op = {\"exp\": lambda a: np.exp(a), \"exp-\": lambda a: np.exp(-a)}\n",
    "custom_functions_dict = {\"exp-\": [\"np.exp(-\", \")\"]}\n",
    "weigths_op = {\"exp-\": 4}"
   ]
  },
  {
   "cell_type": "code",
   "execution_count": 5,
   "metadata": {},
   "outputs": [],
   "source": [
    "func = func\n",
    "x_range = [-5,15]\n",
    "n_points = 1000\n",
    "population = 2000\n",
    "generations = 3\n",
    "const_range = (-5,15)\n",
    "dir_path = main_path + \"base_generations_specific/\"\n",
    "gen_fit_path = dir_path + \"/gen_fit\"\n",
    "n_runs = 1\n",
    "create_dirs(dir_path, gen_fit_path)"
   ]
  },
  {
   "cell_type": "code",
   "execution_count": 6,
   "metadata": {},
   "outputs": [],
   "source": [
    "generations = [1, 2, 3, 4, 5, 6, 7, 8, 9, 10, 15]"
   ]
  },
  {
   "cell_type": "code",
   "execution_count": 7,
   "metadata": {},
   "outputs": [
    {
     "name": "stdout",
     "output_type": "stream",
     "text": [
      "-=-=-=-=-=-=-=-= Training for population 2000 and generation 1 - fundamental/base_generations_specific/ =-=-=-=-=-=-=-=-\n",
      "iniciou\n",
      "-=-=-=-=-=-=-= Done training for population 2000 and generation 1 - fundamental/base_generations_specific/ =-=-=-=-=-=-=-\n",
      "-=-=-=-=-=-=-=-= Training for population 2000 and generation 2 - fundamental/base_generations_specific/ =-=-=-=-=-=-=-=-\n",
      "iniciou\n",
      "iniciou\n",
      "-=-=-=-=-=-=-= Done training for population 2000 and generation 2 - fundamental/base_generations_specific/ =-=-=-=-=-=-=-\n",
      "-=-=-=-=-=-=-=-= Training for population 2000 and generation 3 - fundamental/base_generations_specific/ =-=-=-=-=-=-=-=-\n",
      "iniciou\n",
      "iniciou\n",
      "iniciou\n",
      "-=-=-=-=-=-=-= Done training for population 2000 and generation 3 - fundamental/base_generations_specific/ =-=-=-=-=-=-=-\n",
      "-=-=-=-=-=-=-=-= Training for population 2000 and generation 4 - fundamental/base_generations_specific/ =-=-=-=-=-=-=-=-\n",
      "iniciou\n",
      "iniciou\n",
      "iniciou\n",
      "iniciou\n",
      "-=-=-=-=-=-=-= Done training for population 2000 and generation 4 - fundamental/base_generations_specific/ =-=-=-=-=-=-=-\n",
      "-=-=-=-=-=-=-=-= Training for population 2000 and generation 5 - fundamental/base_generations_specific/ =-=-=-=-=-=-=-=-\n",
      "iniciou\n",
      "iniciou\n",
      "iniciou\n",
      "iniciou\n",
      "iniciou\n",
      "-=-=-=-=-=-=-= Done training for population 2000 and generation 5 - fundamental/base_generations_specific/ =-=-=-=-=-=-=-\n",
      "-=-=-=-=-=-=-=-= Training for population 2000 and generation 6 - fundamental/base_generations_specific/ =-=-=-=-=-=-=-=-\n",
      "iniciou\n",
      "iniciou\n",
      "iniciou\n",
      "iniciou\n",
      "iniciou\n",
      "iniciou\n",
      "-=-=-=-=-=-=-= Done training for population 2000 and generation 6 - fundamental/base_generations_specific/ =-=-=-=-=-=-=-\n",
      "-=-=-=-=-=-=-=-= Training for population 2000 and generation 7 - fundamental/base_generations_specific/ =-=-=-=-=-=-=-=-\n",
      "iniciou\n",
      "iniciou\n",
      "iniciou\n",
      "iniciou\n",
      "iniciou\n",
      "iniciou\n",
      "iniciou\n",
      "-=-=-=-=-=-=-= Done training for population 2000 and generation 7 - fundamental/base_generations_specific/ =-=-=-=-=-=-=-\n",
      "-=-=-=-=-=-=-=-= Training for population 2000 and generation 8 - fundamental/base_generations_specific/ =-=-=-=-=-=-=-=-\n",
      "iniciou\n",
      "iniciou\n",
      "iniciou\n",
      "iniciou\n",
      "iniciou\n",
      "iniciou\n",
      "iniciou\n",
      "iniciou\n",
      "-=-=-=-=-=-=-= Done training for population 2000 and generation 8 - fundamental/base_generations_specific/ =-=-=-=-=-=-=-\n",
      "-=-=-=-=-=-=-=-= Training for population 2000 and generation 9 - fundamental/base_generations_specific/ =-=-=-=-=-=-=-=-\n",
      "iniciou\n",
      "iniciou\n",
      "iniciou\n",
      "iniciou\n",
      "iniciou\n",
      "iniciou\n",
      "iniciou\n",
      "iniciou\n",
      "iniciou\n",
      "-=-=-=-=-=-=-= Done training for population 2000 and generation 9 - fundamental/base_generations_specific/ =-=-=-=-=-=-=-\n",
      "-=-=-=-=-=-=-=-= Training for population 2000 and generation 10 - fundamental/base_generations_specific/ =-=-=-=-=-=-=-=-\n",
      "iniciou\n",
      "iniciou\n",
      "iniciou\n",
      "iniciou\n",
      "iniciou\n",
      "iniciou\n",
      "iniciou\n",
      "iniciou\n",
      "iniciou\n",
      "iniciou\n",
      "-=-=-=-=-=-=-= Done training for population 2000 and generation 10 - fundamental/base_generations_specific/ =-=-=-=-=-=-=-\n",
      "-=-=-=-=-=-=-=-= Training for population 2000 and generation 15 - fundamental/base_generations_specific/ =-=-=-=-=-=-=-=-\n",
      "iniciou\n",
      "iniciou\n",
      "iniciou\n",
      "iniciou\n",
      "iniciou\n",
      "iniciou\n",
      "iniciou\n",
      "iniciou\n",
      "iniciou\n",
      "iniciou\n",
      "iniciou\n",
      "iniciou\n",
      "iniciou\n",
      "iniciou\n",
      "iniciou\n",
      "-=-=-=-=-=-=-= Done training for population 2000 and generation 15 - fundamental/base_generations_specific/ =-=-=-=-=-=-=-\n"
     ]
    }
   ],
   "source": [
    "for gen in generations:\n",
    "    X, y, operators, functions = testAlgorithm(func, x_range, n_points, dir_path, population, gen,\n",
    "                                          normalize=True, const_range=const_range,\n",
    "                                          ignore_warning=True, overwrite=True, n_runs=n_runs,\n",
    "                                          SEED=SEED, gen_fit_path=gen_fit_path, functions=functions_op,\n",
    "                                          operators=operators_op, custom_functions_dict=custom_functions_dict, weights=weigths_op)"
   ]
  }
 ],
 "metadata": {
  "kernelspec": {
   "display_name": "base",
   "language": "python",
   "name": "python3"
  },
  "language_info": {
   "codemirror_mode": {
    "name": "ipython",
    "version": 3
   },
   "file_extension": ".py",
   "mimetype": "text/x-python",
   "name": "python",
   "nbconvert_exporter": "python",
   "pygments_lexer": "ipython3",
   "version": "3.9.13"
  }
 },
 "nbformat": 4,
 "nbformat_minor": 2
}
